{
 "cells": [
  {
   "cell_type": "markdown",
   "metadata": {},
   "source": [
    "![alt text](<data/logoET.png>)\n",
    "\n",
    "# ET in Italia: Scienza e Tecnologia\n",
    "Assisi, 20-23 February 2024\n",
    "\n",
    "\n",
    "## GWFish Tutorial: BBH Population Analysis"
   ]
  },
  {
   "cell_type": "markdown",
   "metadata": {},
   "source": [
    "The functions are the same explained in the previous tutorial, but applied to a population sample instead of a single event"
   ]
  },
  {
   "cell_type": "code",
   "execution_count": 1,
   "metadata": {},
   "outputs": [],
   "source": [
    "import GWFish.modules as gw\n",
    "\n",
    "from tqdm import tqdm\n",
    "import matplotlib\n",
    "import matplotlib.pyplot as plt\n",
    "import corner\n",
    "import numpy as np\n",
    "import pandas as pd\n",
    "import json\n",
    "import os\n",
    "from astropy.cosmology import Planck18"
   ]
  },
  {
   "cell_type": "code",
   "execution_count": 3,
   "metadata": {},
   "outputs": [],
   "source": [
    "#GWFish_path = '/usr/local/lib/python3.10/dist-packages/GWFish/'\n",
    "GWFish_path = '../../GWFish/GWFish/'"
   ]
  },
  {
   "cell_type": "code",
   "execution_count": 4,
   "metadata": {},
   "outputs": [],
   "source": [
    "# The detector names can be accessed in detectors.yaml file\n",
    "# One can list as many detectors as they want: ['H1', 'L1', 'V1', 'CE', 'ET']\n",
    "detectors = ['ET']\n",
    "# The networks are the combinations of detectors that will be used for the analysis\n",
    "# The detection_SNR is the minimum SNR for a detection:\n",
    "#   --> The first entry specifies the minimum SNR for a detection in a single detector\n",
    "#   --> The second entry specifies the minimum network SNR for a detection\n",
    "network = gw.detection.Network(detector_ids = detectors, detection_SNR = (0., 8.),\n",
    "                               config = os.path.join(GWFish_path,'detectors.yaml'))\n",
    "\n",
    "\n",
    "# We choose a waveform approximant suitable for BNS analysis\n",
    "# In this case we are taking into account tidal polarizability effects\n",
    "waveform_model = 'IMRPhenomD_NRTidalv2'\n",
    "\n",
    "# The fisher parameters are the parameters that will be used to calculate the Fisher matrix\n",
    "# and on which we will calculate the errors\n",
    "fisher_parameters = ['mass_1', 'mass_2', 'luminosity_distance', 'theta_jn', 'dec','ra',\n",
    "                     'psi', 'phase', 'geocent_time', 'a_1', 'a_2', 'lambda_1', 'lambda_2']\n"
   ]
  },
  {
   "cell_type": "code",
   "execution_count": null,
   "metadata": {},
   "outputs": [],
   "source": [
    "plt.hist(errors['network_SNR'], bins = 25, alpha = 0.5)\n",
    "plt.xlabel('SNR')\n",
    "plt.ylabel('number of events')\n",
    "plt.grid(linestyle='dotted', linewidth='0.6', which='both')\n",
    "\n",
    "plt.show()"
   ]
  },
  {
   "cell_type": "code",
   "execution_count": null,
   "metadata": {},
   "outputs": [],
   "source": [
    "plt.hist(errors['mass_1'], bins = 25, label = 'mass_1', alpha= 0.5)\n",
    "plt.hist(errors['mass_2'], bins = 25, label = 'mass_2', alpha= 0.5)\n",
    "plt.legend()\n",
    "plt.xlabel('mass [$M_{\\odot}$]')\n",
    "plt.ylabel('number of events')\n",
    "plt.grid(which = 'both', color = 'lightgray', alpha = 0.5, linewidth = 0.5)\n",
    "plt.show()"
   ]
  },
  {
   "cell_type": "code",
   "execution_count": null,
   "metadata": {},
   "outputs": [],
   "source": [
    "# Cut the results to max sky_loc = whole_sky\n",
    "whole_sky = 4 * np.pi\n",
    "errors = errors.loc[errors['err_sky_location'] <= whole_sky]\n",
    "\n",
    "sky_loc_conv = 4.6 * (180. / np.pi)**2\n",
    "sc = plt.scatter(errors['err_luminosity_distance']/errors['luminosity_distance'],\n",
    "                 sky_loc_conv * errors['err_sky_location'],\n",
    "                 c = errors['network_SNR'], cmap = 'inferno')\n",
    "plt.xscale('log')\n",
    "plt.yscale('log')\n",
    "plt.xlabel('$\\Delta d_L/d_L$')\n",
    "plt.ylabel('$\\Delta \\Omega_{90}$')\n",
    "plt.colorbar(sc, label = 'SNR')\n",
    "plt.grid(which = 'both', color = 'lightgray', alpha = 0.5, linewidth = 0.5)\n",
    "plt.show()"
   ]
  },
  {
   "cell_type": "code",
   "execution_count": null,
   "metadata": {},
   "outputs": [],
   "source": [
    "plt.hist(errors['err_theta_jn']/errors['theta_jn'], bins = np.logspace(-2, 2, 50), alpha = 0.5)\n",
    "plt.xscale('log')\n",
    "plt.xlabel('$\\Delta \\iota/\\iota$')\n",
    "plt.ylabel('number of events')\n",
    "plt.grid(which = 'both', color = 'lightgray', alpha = 0.5, linewidth = 0.5)\n",
    "plt.show()"
   ]
  },
  {
   "cell_type": "code",
   "execution_count": null,
   "metadata": {},
   "outputs": [],
   "source": [
    "plt.hist(errors['err_luminosity_distance']/errors['luminosity_distance'], bins = np.logspace(-2, 2, 50), alpha = 0.5)\n",
    "plt.xscale('log')\n",
    "plt.xlabel('$\\Delta d_L/d_L$')\n",
    "plt.ylabel('number of events')\n",
    "plt.grid(which = 'both', color = 'lightgray', alpha = 0.5, linewidth = 0.5)\n",
    "plt.show()"
   ]
  }
 ],
 "metadata": {
  "kernelspec": {
   "display_name": "assisi2024",
   "language": "python",
   "name": "python3"
  },
  "language_info": {
   "codemirror_mode": {
    "name": "ipython",
    "version": 3
   },
   "file_extension": ".py",
   "mimetype": "text/x-python",
   "name": "python",
   "nbconvert_exporter": "python",
   "pygments_lexer": "ipython3",
   "version": "3.10.13"
  }
 },
 "nbformat": 4,
 "nbformat_minor": 2
}
