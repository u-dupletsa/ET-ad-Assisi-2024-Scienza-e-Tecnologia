{
 "cells": [
  {
   "cell_type": "code",
   "execution_count": 1,
   "metadata": {},
   "outputs": [],
   "source": [
    "import GWFish.modules as gw\n",
    "\n",
    "from tqdm import tqdm\n",
    "import matplotlib\n",
    "import matplotlib.pyplot as plt\n",
    "import corner\n",
    "import numpy as np\n",
    "import pandas as pd\n",
    "import json\n",
    "import os\n",
    "from astropy.cosmology import Planck18"
   ]
  },
  {
   "cell_type": "code",
   "execution_count": 3,
   "metadata": {},
   "outputs": [],
   "source": [
    "#GWFish_path = '/usr/local/lib/python3.10/dist-packages/GWFish/'\n",
    "GWFish_path = '../../GWFish/GWFish/'"
   ]
  },
  {
   "cell_type": "code",
   "execution_count": 4,
   "metadata": {},
   "outputs": [],
   "source": [
    "# The detector names can be accessed in detectors.yaml file\n",
    "# One can list as many detectors as they want: ['H1', 'L1', 'V1', 'CE', 'ET']\n",
    "detectors = ['ET']\n",
    "# The networks are the combinations of detectors that will be used for the analysis\n",
    "# The detection_SNR is the minimum SNR for a detection:\n",
    "#   --> The first entry specifies the minimum SNR for a detection in a single detector\n",
    "#   --> The second entry specifies the minimum network SNR for a detection\n",
    "network = gw.detection.Network(detector_ids = detectors, detection_SNR = (0., 8.),\n",
    "                               config = os.path.join(GWFish_path,'detectors.yaml'))\n",
    "\n",
    "\n",
    "# We choose a waveform approximant suitable for BNS analysis\n",
    "# In this case we are taking into account tidal polarizability effects\n",
    "waveform_model = 'IMRPhenomD_NRTidalv2'\n",
    "\n",
    "# The fisher parameters are the parameters that will be used to calculate the Fisher matrix\n",
    "# and on which we will calculate the errors\n",
    "fisher_parameters = ['mass_1', 'mass_2', 'luminosity_distance', 'theta_jn', 'dec','ra',\n",
    "                     'psi', 'phase', 'geocent_time', 'a_1', 'a_2', 'lambda_1', 'lambda_2']\n"
   ]
  }
 ],
 "metadata": {
  "kernelspec": {
   "display_name": "assisi2024",
   "language": "python",
   "name": "python3"
  },
  "language_info": {
   "codemirror_mode": {
    "name": "ipython",
    "version": 3
   },
   "file_extension": ".py",
   "mimetype": "text/x-python",
   "name": "python",
   "nbconvert_exporter": "python",
   "pygments_lexer": "ipython3",
   "version": "3.9.18"
  }
 },
 "nbformat": 4,
 "nbformat_minor": 2
}
